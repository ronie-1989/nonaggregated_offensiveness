{
 "cells": [
  {
   "cell_type": "code",
   "execution_count": 10,
   "id": "a3fb9d6c-318c-44d0-87f2-c8f190e2eedb",
   "metadata": {},
   "outputs": [
    {
     "name": "stdout",
     "output_type": "stream",
     "text": [
      "Sun Feb  4 22:12:25 2024       \n",
      "+-----------------------------------------------------------------------------+\n",
      "| NVIDIA-SMI 525.147.05   Driver Version: 525.147.05   CUDA Version: 12.0     |\n",
      "|-------------------------------+----------------------+----------------------+\n",
      "| GPU  Name        Persistence-M| Bus-Id        Disp.A | Volatile Uncorr. ECC |\n",
      "| Fan  Temp  Perf  Pwr:Usage/Cap|         Memory-Usage | GPU-Util  Compute M. |\n",
      "|                               |                      |               MIG M. |\n",
      "|===============================+======================+======================|\n",
      "|   0  Tesla V100-SXM2...  Off  | 00000000:62:00.0 Off |                    0 |\n",
      "| N/A   38C    P0    44W / 300W |      0MiB / 16384MiB |      0%      Default |\n",
      "|                               |                      |                  N/A |\n",
      "+-------------------------------+----------------------+----------------------+\n",
      "                                                                               \n",
      "+-----------------------------------------------------------------------------+\n",
      "| Processes:                                                                  |\n",
      "|  GPU   GI   CI        PID   Type   Process name                  GPU Memory |\n",
      "|        ID   ID                                                   Usage      |\n",
      "|=============================================================================|\n",
      "|  No running processes found                                                 |\n",
      "+-----------------------------------------------------------------------------+\n"
     ]
    }
   ],
   "source": [
    "!nvidia-smi"
   ]
  },
  {
   "cell_type": "code",
   "execution_count": 11,
   "id": "f023ee78-e9dc-45b3-90a6-1982f93fd149",
   "metadata": {},
   "outputs": [],
   "source": [
    "import torch\n",
    "import pandas as pd\n",
    "from transformers import AutoTokenizer, DataCollatorForLanguageModeling, GPT2LMHeadModel, get_linear_schedule_with_warmup\n",
    "from sklearn.model_selection import train_test_split\n",
    "from datasets import Dataset, DatasetDict\n",
    "from evaluate import load\n",
    "from torch.utils.data import DataLoader\n",
    "from torch import nn, optim\n",
    "from tqdm import tqdm\n",
    "import matplotlib.pyplot as plt\n",
    "import seaborn as sns\n",
    "from torch.nn import DataParallel\n",
    "from math import nan"
   ]
  },
  {
   "cell_type": "code",
   "execution_count": 12,
   "id": "a1fa097a-0222-4ec2-8ff0-7a4131abae73",
   "metadata": {},
   "outputs": [],
   "source": [
    "pd.set_option('display.max_colwidth', None)"
   ]
  },
  {
   "cell_type": "code",
   "execution_count": 13,
   "id": "cb7e31f5-c3c8-4b9b-aca9-b5a5779b960a",
   "metadata": {},
   "outputs": [
    {
     "name": "stdout",
     "output_type": "stream",
     "text": [
      "Shapes of dataframes\n",
      "Training file: (112900, 19)\n",
      "Validation file: (16738, 19)\n",
      "Test Shape: (17501, 19)\n"
     ]
    }
   ],
   "source": [
    "train_df = pd.read_csv(\"data/sbic/SBIC.v2.trn.csv\")\n",
    "valid_df = pd.read_csv(\"data/sbic/SBIC.v2.dev.csv\")\n",
    "test_df = pd.read_csv(\"data/sbic/SBIC.v2.tst.csv\")\n",
    "\n",
    "print(\"Shapes of dataframes\")\n",
    "print(f\"Training file: {train_df.shape}\")\n",
    "print(f\"Validation file: {valid_df.shape}\")\n",
    "print(f\"Test Shape: {test_df.shape}\")"
   ]
  },
  {
   "cell_type": "code",
   "execution_count": 14,
   "id": "7326f753-5577-42f6-944b-4aacfb301482",
   "metadata": {},
   "outputs": [],
   "source": [
    "model_checkpoint = 'gpt2'\n",
    "tokenizer = AutoTokenizer.from_pretrained(model_checkpoint, use_fast=True)\n",
    "tokenizer.sep_token = '[SEP]'\n",
    "tokenizer.pad_token = tokenizer.eos_token\n",
    "tokenizer.padding_side = 'left'"
   ]
  },
  {
   "cell_type": "code",
   "execution_count": 15,
   "id": "3443a00a-e4ef-44b3-b633-54be7317cec9",
   "metadata": {},
   "outputs": [
    {
     "data": {
      "text/plain": [
       "whoTarget             46931\n",
       "intentYN                  0\n",
       "sexYN                     0\n",
       "sexReason            102520\n",
       "offensiveYN            2017\n",
       "annotatorGender           1\n",
       "annotatorMinority     83870\n",
       "sexPhrase            102507\n",
       "speakerMinorityYN     67437\n",
       "WorkerId                  0\n",
       "HITId                     0\n",
       "annotatorPolitics         1\n",
       "annotatorRace             1\n",
       "annotatorAge              1\n",
       "post                      0\n",
       "targetMinority        70406\n",
       "targetCategory        70406\n",
       "targetStereotype      71192\n",
       "dataSource                0\n",
       "dtype: int64"
      ]
     },
     "execution_count": 15,
     "metadata": {},
     "output_type": "execute_result"
    }
   ],
   "source": [
    "train_df.isna().sum()"
   ]
  },
  {
   "cell_type": "code",
   "execution_count": 16,
   "id": "5e800b60-52a5-451a-9deb-23e75543f896",
   "metadata": {},
   "outputs": [],
   "source": [
    "race_mapping = {'white': '[WHITE]',\n",
    "                    'hisp': '[HISPANIC]',\n",
    "                    'asian': '[ASIAN]',\n",
    "                    'other': '[OTHER]',\n",
    "                    'black': '[BLACK]',\n",
    "                    'native': '[NATIVE]',\n",
    "                    'na': '[OTHER]'}\n",
    "train_df['mapped_race'] = train_df['annotatorRace'].map(race_mapping)\n",
    "valid_df['mapped_race'] = valid_df['annotatorRace'].map(race_mapping)\n",
    "test_df['mapped_race'] = test_df['annotatorRace'].map(race_mapping)"
   ]
  },
  {
   "cell_type": "code",
   "execution_count": 17,
   "id": "f630c06b-638a-46e6-b752-3f8db0e49ff1",
   "metadata": {},
   "outputs": [],
   "source": [
    "politics_mapping = {'liberal': '[LIBERAL]',\n",
    "                    'mod-liberal': '[MODERATE]',\n",
    "                    'mod-cons': '[MODERATE]',\n",
    "                    'other': '[OTHER]',\n",
    "                    'cons': '[CONSERVATIVE]',\n",
    "                    'libert': '[LIBERT]',\n",
    "                    'na': '[OTHER]'}\n",
    "train_df['mapped_politics'] = train_df['annotatorPolitics'].map(politics_mapping)\n",
    "valid_df['mapped_politics'] = valid_df['annotatorPolitics'].map(politics_mapping)\n",
    "test_df['mapped_politics'] = test_df['annotatorPolitics'].map(politics_mapping)"
   ]
  },
  {
   "cell_type": "code",
   "execution_count": 18,
   "id": "ba2399f5-e18d-4db2-bede-d14caf68a9cb",
   "metadata": {},
   "outputs": [
    {
     "data": {
      "text/html": [
       "<div>\n",
       "<style scoped>\n",
       "    .dataframe tbody tr th:only-of-type {\n",
       "        vertical-align: middle;\n",
       "    }\n",
       "\n",
       "    .dataframe tbody tr th {\n",
       "        vertical-align: top;\n",
       "    }\n",
       "\n",
       "    .dataframe thead th {\n",
       "        text-align: right;\n",
       "    }\n",
       "</style>\n",
       "<table border=\"1\" class=\"dataframe\">\n",
       "  <thead>\n",
       "    <tr style=\"text-align: right;\">\n",
       "      <th></th>\n",
       "      <th>whoTarget</th>\n",
       "      <th>intentYN</th>\n",
       "      <th>sexYN</th>\n",
       "      <th>sexReason</th>\n",
       "      <th>offensiveYN</th>\n",
       "      <th>annotatorGender</th>\n",
       "      <th>annotatorMinority</th>\n",
       "      <th>sexPhrase</th>\n",
       "      <th>speakerMinorityYN</th>\n",
       "      <th>WorkerId</th>\n",
       "      <th>...</th>\n",
       "      <th>annotatorRace</th>\n",
       "      <th>annotatorAge</th>\n",
       "      <th>post</th>\n",
       "      <th>targetMinority</th>\n",
       "      <th>targetCategory</th>\n",
       "      <th>targetStereotype</th>\n",
       "      <th>dataSource</th>\n",
       "      <th>mapped_race</th>\n",
       "      <th>mapped_politics</th>\n",
       "      <th>mapped_gender</th>\n",
       "    </tr>\n",
       "  </thead>\n",
       "  <tbody>\n",
       "    <tr>\n",
       "      <th>0</th>\n",
       "      <td>0.0</td>\n",
       "      <td>0.66</td>\n",
       "      <td>0.0</td>\n",
       "      <td>NaN</td>\n",
       "      <td>1.0</td>\n",
       "      <td>woman</td>\n",
       "      <td>NaN</td>\n",
       "      <td>NaN</td>\n",
       "      <td>NaN</td>\n",
       "      <td>-8935932304856669427</td>\n",
       "      <td>...</td>\n",
       "      <td>white</td>\n",
       "      <td>45.0</td>\n",
       "      <td>RT @_LexC__: I'm convinced that some of y'all bitches get pregnant purposely because \"birth control &amp;amp; plan b pills\" are effective &amp;#128533;&amp;#128056;&amp;#9749;&amp;#65039;</td>\n",
       "      <td>NaN</td>\n",
       "      <td>NaN</td>\n",
       "      <td>NaN</td>\n",
       "      <td>t/davidson</td>\n",
       "      <td>[WHITE]</td>\n",
       "      <td>[LIBERAL]</td>\n",
       "      <td>[FEMALE]</td>\n",
       "    </tr>\n",
       "    <tr>\n",
       "      <th>1</th>\n",
       "      <td>0.0</td>\n",
       "      <td>0.66</td>\n",
       "      <td>0.0</td>\n",
       "      <td>NaN</td>\n",
       "      <td>0.5</td>\n",
       "      <td>man</td>\n",
       "      <td>NaN</td>\n",
       "      <td>NaN</td>\n",
       "      <td>NaN</td>\n",
       "      <td>6347880360297734464</td>\n",
       "      <td>...</td>\n",
       "      <td>white</td>\n",
       "      <td>35.0</td>\n",
       "      <td>RT @_LexC__: I'm convinced that some of y'all bitches get pregnant purposely because \"birth control &amp;amp; plan b pills\" are effective &amp;#128533;&amp;#128056;&amp;#9749;&amp;#65039;</td>\n",
       "      <td>NaN</td>\n",
       "      <td>NaN</td>\n",
       "      <td>NaN</td>\n",
       "      <td>t/davidson</td>\n",
       "      <td>[WHITE]</td>\n",
       "      <td>[MODERATE]</td>\n",
       "      <td>[MALE]</td>\n",
       "    </tr>\n",
       "  </tbody>\n",
       "</table>\n",
       "<p>2 rows × 22 columns</p>\n",
       "</div>"
      ],
      "text/plain": [
       "   whoTarget  intentYN  sexYN sexReason  offensiveYN annotatorGender  \\\n",
       "0        0.0      0.66    0.0       NaN          1.0           woman   \n",
       "1        0.0      0.66    0.0       NaN          0.5             man   \n",
       "\n",
       "  annotatorMinority sexPhrase  speakerMinorityYN             WorkerId  ...  \\\n",
       "0               NaN       NaN                NaN -8935932304856669427  ...   \n",
       "1               NaN       NaN                NaN  6347880360297734464  ...   \n",
       "\n",
       "  annotatorRace annotatorAge  \\\n",
       "0         white         45.0   \n",
       "1         white         35.0   \n",
       "\n",
       "                                                                                                                                                                      post  \\\n",
       "0  RT @_LexC__: I'm convinced that some of y'all bitches get pregnant purposely because \"birth control &amp; plan b pills\" are effective &#128533;&#128056;&#9749;&#65039;   \n",
       "1  RT @_LexC__: I'm convinced that some of y'all bitches get pregnant purposely because \"birth control &amp; plan b pills\" are effective &#128533;&#128056;&#9749;&#65039;   \n",
       "\n",
       "   targetMinority targetCategory targetStereotype  dataSource mapped_race  \\\n",
       "0             NaN            NaN              NaN  t/davidson     [WHITE]   \n",
       "1             NaN            NaN              NaN  t/davidson     [WHITE]   \n",
       "\n",
       "  mapped_politics mapped_gender  \n",
       "0       [LIBERAL]      [FEMALE]  \n",
       "1      [MODERATE]        [MALE]  \n",
       "\n",
       "[2 rows x 22 columns]"
      ]
     },
     "execution_count": 18,
     "metadata": {},
     "output_type": "execute_result"
    }
   ],
   "source": [
    "gender_mapping = {'woman': '[FEMALE]',\n",
    "                  'man': '[MALE]',\n",
    "                  'na': '[NAN]',\n",
    "                  'nonBinary': '[NONBIN]',\n",
    "                  'transman': '[TRANS]'}\n",
    "train_df['mapped_gender'] = train_df['annotatorGender'].map(gender_mapping)\n",
    "valid_df['mapped_gender'] = valid_df['annotatorGender'].map(gender_mapping)\n",
    "test_df['mapped_gender'] = test_df['annotatorGender'].map(gender_mapping)\n",
    "train_df.head(2)"
   ]
  },
  {
   "cell_type": "code",
   "execution_count": 21,
   "id": "593f07e1-5978-4d8c-91d6-c7ea50db8b8e",
   "metadata": {},
   "outputs": [],
   "source": [
    "def dataframe_preprocess(df):\n",
    "    df['worker'] = df['WorkerId'].apply(lambda x:f\"[Worker_{x}]\") # create tokens for each unique worker in format Worker_{worker_id}\n",
    "    df['offensive'] = df['offensiveYN'].apply(lambda x:'[OFF_N]' if x<0.5 else '[OFF_Y]')\n",
    "    df['lewd'] = df['sexYN'].apply(lambda x:'[SEX_N]' if x<0.5 else '[SEX_Y]')\n",
    "    df['intent'] = df['intentYN'].apply(lambda x:'[INTENT_N]' if x<0.5 else '[INTENT_Y]')\n",
    "    df['category'] = df['targetCategory'].apply(lambda x: '[CAT_Y]' if pd.notna(x) else '[CAT_N]')\n",
    "    df['minority'] = df['targetMinority'].apply(lambda x: '[MIN_Y]' if pd.notna(x) else '[MIN_N]')\n",
    "    df['text_prefix'] = df.apply(lambda row: f\"{row['worker']} is {row['annotatorRace']}, {row['annotatorPolitics']} and {row['annotatorGender']}.\", axis=1)\n",
    "\n",
    "    #df['group'] = df['whoTarget'].apply(lambda x: '[GRP_N]' if x<0.5 else '[GRP_Y]')\n",
    "\n",
    "    selected_columns = ['post', 'worker', 'offensive', 'lewd', 'intent', 'category', 'minority', 'mapped_gender', 'mapped_politics', 'mapped_race', 'text_prefix']\n",
    "    df = df[selected_columns]\n",
    "    \n",
    "    # create feature column\n",
    "    train_text = lambda x: ' '.join([str(x['text_prefix']), tokenizer.sep_token, str(x['post']), tokenizer.sep_token, str(x['offensive']),\n",
    "                                     str(x['lewd']), str(x['intent']), str(x['category']), str(x['minority'])]) \n",
    "    df['train_text'] = df.apply(train_text, axis=1)\n",
    "    \n",
    "    test_text = lambda x: ' '.join([str(x['text_prefix']), tokenizer.sep_token, str(x['post']), tokenizer.sep_token])    \n",
    "    df['test_text'] = df.apply(test_text, axis=1)\n",
    "\n",
    "    return df"
   ]
  },
  {
   "cell_type": "code",
   "execution_count": 22,
   "id": "f56521f3-cde8-4260-9709-b73deb4edcb3",
   "metadata": {},
   "outputs": [
    {
     "name": "stderr",
     "output_type": "stream",
     "text": [
      "/w0/tmp/slurm_ky362276.43222080/ipykernel_49649/2262844877.py:18: SettingWithCopyWarning: \n",
      "A value is trying to be set on a copy of a slice from a DataFrame.\n",
      "Try using .loc[row_indexer,col_indexer] = value instead\n",
      "\n",
      "See the caveats in the documentation: https://pandas.pydata.org/pandas-docs/stable/user_guide/indexing.html#returning-a-view-versus-a-copy\n",
      "  df['train_text'] = df.apply(train_text, axis=1)\n",
      "/w0/tmp/slurm_ky362276.43222080/ipykernel_49649/2262844877.py:21: SettingWithCopyWarning: \n",
      "A value is trying to be set on a copy of a slice from a DataFrame.\n",
      "Try using .loc[row_indexer,col_indexer] = value instead\n",
      "\n",
      "See the caveats in the documentation: https://pandas.pydata.org/pandas-docs/stable/user_guide/indexing.html#returning-a-view-versus-a-copy\n",
      "  df['test_text'] = df.apply(test_text, axis=1)\n",
      "/w0/tmp/slurm_ky362276.43222080/ipykernel_49649/2262844877.py:18: SettingWithCopyWarning: \n",
      "A value is trying to be set on a copy of a slice from a DataFrame.\n",
      "Try using .loc[row_indexer,col_indexer] = value instead\n",
      "\n",
      "See the caveats in the documentation: https://pandas.pydata.org/pandas-docs/stable/user_guide/indexing.html#returning-a-view-versus-a-copy\n",
      "  df['train_text'] = df.apply(train_text, axis=1)\n",
      "/w0/tmp/slurm_ky362276.43222080/ipykernel_49649/2262844877.py:21: SettingWithCopyWarning: \n",
      "A value is trying to be set on a copy of a slice from a DataFrame.\n",
      "Try using .loc[row_indexer,col_indexer] = value instead\n",
      "\n",
      "See the caveats in the documentation: https://pandas.pydata.org/pandas-docs/stable/user_guide/indexing.html#returning-a-view-versus-a-copy\n",
      "  df['test_text'] = df.apply(test_text, axis=1)\n",
      "/w0/tmp/slurm_ky362276.43222080/ipykernel_49649/2262844877.py:18: SettingWithCopyWarning: \n",
      "A value is trying to be set on a copy of a slice from a DataFrame.\n",
      "Try using .loc[row_indexer,col_indexer] = value instead\n",
      "\n",
      "See the caveats in the documentation: https://pandas.pydata.org/pandas-docs/stable/user_guide/indexing.html#returning-a-view-versus-a-copy\n",
      "  df['train_text'] = df.apply(train_text, axis=1)\n",
      "/w0/tmp/slurm_ky362276.43222080/ipykernel_49649/2262844877.py:21: SettingWithCopyWarning: \n",
      "A value is trying to be set on a copy of a slice from a DataFrame.\n",
      "Try using .loc[row_indexer,col_indexer] = value instead\n",
      "\n",
      "See the caveats in the documentation: https://pandas.pydata.org/pandas-docs/stable/user_guide/indexing.html#returning-a-view-versus-a-copy\n",
      "  df['test_text'] = df.apply(test_text, axis=1)\n"
     ]
    }
   ],
   "source": [
    "train_data = dataframe_preprocess(train_df)\n",
    "valid_data = dataframe_preprocess(valid_df)\n",
    "test_data = dataframe_preprocess(test_df)"
   ]
  },
  {
   "cell_type": "code",
   "execution_count": 23,
   "id": "56721981-3154-48e9-917e-2b763f7aeb69",
   "metadata": {},
   "outputs": [
    {
     "data": {
      "text/plain": [
       "(112900, 13)"
      ]
     },
     "execution_count": 23,
     "metadata": {},
     "output_type": "execute_result"
    }
   ],
   "source": [
    "train_data.shape"
   ]
  },
  {
   "cell_type": "code",
   "execution_count": 24,
   "id": "73998d4f-dfa9-46c7-91be-3f288ec81b71",
   "metadata": {},
   "outputs": [
    {
     "name": "stderr",
     "output_type": "stream",
     "text": [
      "/w0/tmp/slurm_ky362276.43222080/ipykernel_49649/1654660196.py:1: SettingWithCopyWarning: \n",
      "A value is trying to be set on a copy of a slice from a DataFrame\n",
      "\n",
      "See the caveats in the documentation: https://pandas.pydata.org/pandas-docs/stable/user_guide/indexing.html#returning-a-view-versus-a-copy\n",
      "  train_data.dropna(inplace=True)\n"
     ]
    }
   ],
   "source": [
    "train_data.dropna(inplace=True)"
   ]
  },
  {
   "cell_type": "code",
   "execution_count": 25,
   "id": "55929b73-0251-437b-a087-e9c99fe12b05",
   "metadata": {},
   "outputs": [
    {
     "data": {
      "text/plain": [
       "(112899, 13)"
      ]
     },
     "execution_count": 25,
     "metadata": {},
     "output_type": "execute_result"
    }
   ],
   "source": [
    "train_data.shape"
   ]
  },
  {
   "cell_type": "code",
   "execution_count": 26,
   "id": "f0070861-0f7a-41ca-80d4-6f15e106f75d",
   "metadata": {},
   "outputs": [
    {
     "name": "stdout",
     "output_type": "stream",
     "text": [
      "Current length of tokenizer: 50257\n"
     ]
    }
   ],
   "source": [
    "print(f\"Current length of tokenizer: {len(tokenizer)}\")"
   ]
  },
  {
   "cell_type": "code",
   "execution_count": 27,
   "id": "3ff5a8c2-a699-47db-be01-471018f43c8f",
   "metadata": {},
   "outputs": [
    {
     "data": {
      "text/html": [
       "<div>\n",
       "<style scoped>\n",
       "    .dataframe tbody tr th:only-of-type {\n",
       "        vertical-align: middle;\n",
       "    }\n",
       "\n",
       "    .dataframe tbody tr th {\n",
       "        vertical-align: top;\n",
       "    }\n",
       "\n",
       "    .dataframe thead th {\n",
       "        text-align: right;\n",
       "    }\n",
       "</style>\n",
       "<table border=\"1\" class=\"dataframe\">\n",
       "  <thead>\n",
       "    <tr style=\"text-align: right;\">\n",
       "      <th></th>\n",
       "      <th>post</th>\n",
       "      <th>worker</th>\n",
       "      <th>offensive</th>\n",
       "      <th>lewd</th>\n",
       "      <th>intent</th>\n",
       "      <th>category</th>\n",
       "      <th>minority</th>\n",
       "      <th>mapped_gender</th>\n",
       "      <th>mapped_politics</th>\n",
       "      <th>mapped_race</th>\n",
       "      <th>text_prefix</th>\n",
       "      <th>train_text</th>\n",
       "      <th>test_text</th>\n",
       "    </tr>\n",
       "  </thead>\n",
       "  <tbody>\n",
       "    <tr>\n",
       "      <th>0</th>\n",
       "      <td>RT @_LexC__: I'm convinced that some of y'all bitches get pregnant purposely because \"birth control &amp;amp; plan b pills\" are effective &amp;#128533;&amp;#128056;&amp;#9749;&amp;#65039;</td>\n",
       "      <td>[Worker_-8935932304856669427]</td>\n",
       "      <td>[OFF_Y]</td>\n",
       "      <td>[SEX_N]</td>\n",
       "      <td>[INTENT_Y]</td>\n",
       "      <td>[CAT_N]</td>\n",
       "      <td>[MIN_N]</td>\n",
       "      <td>[FEMALE]</td>\n",
       "      <td>[LIBERAL]</td>\n",
       "      <td>[WHITE]</td>\n",
       "      <td>[Worker_-8935932304856669427] is white, liberal and woman.</td>\n",
       "      <td>[Worker_-8935932304856669427] is white, liberal and woman. [SEP] RT @_LexC__: I'm convinced that some of y'all bitches get pregnant purposely because \"birth control &amp;amp; plan b pills\" are effective &amp;#128533;&amp;#128056;&amp;#9749;&amp;#65039; [SEP] [OFF_Y] [SEX_N] [INTENT_Y] [CAT_N] [MIN_N]</td>\n",
       "      <td>[Worker_-8935932304856669427] is white, liberal and woman. [SEP] RT @_LexC__: I'm convinced that some of y'all bitches get pregnant purposely because \"birth control &amp;amp; plan b pills\" are effective &amp;#128533;&amp;#128056;&amp;#9749;&amp;#65039; [SEP]</td>\n",
       "    </tr>\n",
       "    <tr>\n",
       "      <th>1</th>\n",
       "      <td>RT @_LexC__: I'm convinced that some of y'all bitches get pregnant purposely because \"birth control &amp;amp; plan b pills\" are effective &amp;#128533;&amp;#128056;&amp;#9749;&amp;#65039;</td>\n",
       "      <td>[Worker_6347880360297734464]</td>\n",
       "      <td>[OFF_Y]</td>\n",
       "      <td>[SEX_N]</td>\n",
       "      <td>[INTENT_Y]</td>\n",
       "      <td>[CAT_N]</td>\n",
       "      <td>[MIN_N]</td>\n",
       "      <td>[MALE]</td>\n",
       "      <td>[MODERATE]</td>\n",
       "      <td>[WHITE]</td>\n",
       "      <td>[Worker_6347880360297734464] is white, mod-liberal and man.</td>\n",
       "      <td>[Worker_6347880360297734464] is white, mod-liberal and man. [SEP] RT @_LexC__: I'm convinced that some of y'all bitches get pregnant purposely because \"birth control &amp;amp; plan b pills\" are effective &amp;#128533;&amp;#128056;&amp;#9749;&amp;#65039; [SEP] [OFF_Y] [SEX_N] [INTENT_Y] [CAT_N] [MIN_N]</td>\n",
       "      <td>[Worker_6347880360297734464] is white, mod-liberal and man. [SEP] RT @_LexC__: I'm convinced that some of y'all bitches get pregnant purposely because \"birth control &amp;amp; plan b pills\" are effective &amp;#128533;&amp;#128056;&amp;#9749;&amp;#65039; [SEP]</td>\n",
       "    </tr>\n",
       "    <tr>\n",
       "      <th>2</th>\n",
       "      <td>RT @_LexC__: I'm convinced that some of y'all bitches get pregnant purposely because \"birth control &amp;amp; plan b pills\" are effective &amp;#128533;&amp;#128056;&amp;#9749;&amp;#65039;</td>\n",
       "      <td>[Worker_-7452610791699819066]</td>\n",
       "      <td>[OFF_Y]</td>\n",
       "      <td>[SEX_N]</td>\n",
       "      <td>[INTENT_N]</td>\n",
       "      <td>[CAT_N]</td>\n",
       "      <td>[MIN_N]</td>\n",
       "      <td>[MALE]</td>\n",
       "      <td>[LIBERAL]</td>\n",
       "      <td>[ASIAN]</td>\n",
       "      <td>[Worker_-7452610791699819066] is asian, liberal and man.</td>\n",
       "      <td>[Worker_-7452610791699819066] is asian, liberal and man. [SEP] RT @_LexC__: I'm convinced that some of y'all bitches get pregnant purposely because \"birth control &amp;amp; plan b pills\" are effective &amp;#128533;&amp;#128056;&amp;#9749;&amp;#65039; [SEP] [OFF_Y] [SEX_N] [INTENT_N] [CAT_N] [MIN_N]</td>\n",
       "      <td>[Worker_-7452610791699819066] is asian, liberal and man. [SEP] RT @_LexC__: I'm convinced that some of y'all bitches get pregnant purposely because \"birth control &amp;amp; plan b pills\" are effective &amp;#128533;&amp;#128056;&amp;#9749;&amp;#65039; [SEP]</td>\n",
       "    </tr>\n",
       "    <tr>\n",
       "      <th>3</th>\n",
       "      <td>RT @iBeZo: Stupid fucking nigger LeBron. You flopping stupid jungle bunny monkey faggot.</td>\n",
       "      <td>[Worker_-500114755446676507]</td>\n",
       "      <td>[OFF_Y]</td>\n",
       "      <td>[SEX_N]</td>\n",
       "      <td>[INTENT_Y]</td>\n",
       "      <td>[CAT_Y]</td>\n",
       "      <td>[MIN_Y]</td>\n",
       "      <td>[MALE]</td>\n",
       "      <td>[LIBERAL]</td>\n",
       "      <td>[WHITE]</td>\n",
       "      <td>[Worker_-500114755446676507] is white, liberal and man.</td>\n",
       "      <td>[Worker_-500114755446676507] is white, liberal and man. [SEP] RT @iBeZo: Stupid fucking nigger LeBron. You flopping stupid jungle bunny monkey faggot. [SEP] [OFF_Y] [SEX_N] [INTENT_Y] [CAT_Y] [MIN_Y]</td>\n",
       "      <td>[Worker_-500114755446676507] is white, liberal and man. [SEP] RT @iBeZo: Stupid fucking nigger LeBron. You flopping stupid jungle bunny monkey faggot. [SEP]</td>\n",
       "    </tr>\n",
       "    <tr>\n",
       "      <th>4</th>\n",
       "      <td>RT @iBeZo: Stupid fucking nigger LeBron. You flopping stupid jungle bunny monkey faggot.</td>\n",
       "      <td>[Worker_-500114755446676507]</td>\n",
       "      <td>[OFF_Y]</td>\n",
       "      <td>[SEX_N]</td>\n",
       "      <td>[INTENT_Y]</td>\n",
       "      <td>[CAT_Y]</td>\n",
       "      <td>[MIN_Y]</td>\n",
       "      <td>[MALE]</td>\n",
       "      <td>[LIBERAL]</td>\n",
       "      <td>[WHITE]</td>\n",
       "      <td>[Worker_-500114755446676507] is white, liberal and man.</td>\n",
       "      <td>[Worker_-500114755446676507] is white, liberal and man. [SEP] RT @iBeZo: Stupid fucking nigger LeBron. You flopping stupid jungle bunny monkey faggot. [SEP] [OFF_Y] [SEX_N] [INTENT_Y] [CAT_Y] [MIN_Y]</td>\n",
       "      <td>[Worker_-500114755446676507] is white, liberal and man. [SEP] RT @iBeZo: Stupid fucking nigger LeBron. You flopping stupid jungle bunny monkey faggot. [SEP]</td>\n",
       "    </tr>\n",
       "  </tbody>\n",
       "</table>\n",
       "</div>"
      ],
      "text/plain": [
       "                                                                                                                                                                      post  \\\n",
       "0  RT @_LexC__: I'm convinced that some of y'all bitches get pregnant purposely because \"birth control &amp; plan b pills\" are effective &#128533;&#128056;&#9749;&#65039;   \n",
       "1  RT @_LexC__: I'm convinced that some of y'all bitches get pregnant purposely because \"birth control &amp; plan b pills\" are effective &#128533;&#128056;&#9749;&#65039;   \n",
       "2  RT @_LexC__: I'm convinced that some of y'all bitches get pregnant purposely because \"birth control &amp; plan b pills\" are effective &#128533;&#128056;&#9749;&#65039;   \n",
       "3                                                                                 RT @iBeZo: Stupid fucking nigger LeBron. You flopping stupid jungle bunny monkey faggot.   \n",
       "4                                                                                 RT @iBeZo: Stupid fucking nigger LeBron. You flopping stupid jungle bunny monkey faggot.   \n",
       "\n",
       "                          worker offensive     lewd      intent category  \\\n",
       "0  [Worker_-8935932304856669427]   [OFF_Y]  [SEX_N]  [INTENT_Y]  [CAT_N]   \n",
       "1   [Worker_6347880360297734464]   [OFF_Y]  [SEX_N]  [INTENT_Y]  [CAT_N]   \n",
       "2  [Worker_-7452610791699819066]   [OFF_Y]  [SEX_N]  [INTENT_N]  [CAT_N]   \n",
       "3   [Worker_-500114755446676507]   [OFF_Y]  [SEX_N]  [INTENT_Y]  [CAT_Y]   \n",
       "4   [Worker_-500114755446676507]   [OFF_Y]  [SEX_N]  [INTENT_Y]  [CAT_Y]   \n",
       "\n",
       "  minority mapped_gender mapped_politics mapped_race  \\\n",
       "0  [MIN_N]      [FEMALE]       [LIBERAL]     [WHITE]   \n",
       "1  [MIN_N]        [MALE]      [MODERATE]     [WHITE]   \n",
       "2  [MIN_N]        [MALE]       [LIBERAL]     [ASIAN]   \n",
       "3  [MIN_Y]        [MALE]       [LIBERAL]     [WHITE]   \n",
       "4  [MIN_Y]        [MALE]       [LIBERAL]     [WHITE]   \n",
       "\n",
       "                                                   text_prefix  \\\n",
       "0   [Worker_-8935932304856669427] is white, liberal and woman.   \n",
       "1  [Worker_6347880360297734464] is white, mod-liberal and man.   \n",
       "2     [Worker_-7452610791699819066] is asian, liberal and man.   \n",
       "3      [Worker_-500114755446676507] is white, liberal and man.   \n",
       "4      [Worker_-500114755446676507] is white, liberal and man.   \n",
       "\n",
       "                                                                                                                                                                                                                                                                                   train_text  \\\n",
       "0   [Worker_-8935932304856669427] is white, liberal and woman. [SEP] RT @_LexC__: I'm convinced that some of y'all bitches get pregnant purposely because \"birth control &amp; plan b pills\" are effective &#128533;&#128056;&#9749;&#65039; [SEP] [OFF_Y] [SEX_N] [INTENT_Y] [CAT_N] [MIN_N]   \n",
       "1  [Worker_6347880360297734464] is white, mod-liberal and man. [SEP] RT @_LexC__: I'm convinced that some of y'all bitches get pregnant purposely because \"birth control &amp; plan b pills\" are effective &#128533;&#128056;&#9749;&#65039; [SEP] [OFF_Y] [SEX_N] [INTENT_Y] [CAT_N] [MIN_N]   \n",
       "2     [Worker_-7452610791699819066] is asian, liberal and man. [SEP] RT @_LexC__: I'm convinced that some of y'all bitches get pregnant purposely because \"birth control &amp; plan b pills\" are effective &#128533;&#128056;&#9749;&#65039; [SEP] [OFF_Y] [SEX_N] [INTENT_N] [CAT_N] [MIN_N]   \n",
       "3                                                                                     [Worker_-500114755446676507] is white, liberal and man. [SEP] RT @iBeZo: Stupid fucking nigger LeBron. You flopping stupid jungle bunny monkey faggot. [SEP] [OFF_Y] [SEX_N] [INTENT_Y] [CAT_Y] [MIN_Y]   \n",
       "4                                                                                     [Worker_-500114755446676507] is white, liberal and man. [SEP] RT @iBeZo: Stupid fucking nigger LeBron. You flopping stupid jungle bunny monkey faggot. [SEP] [OFF_Y] [SEX_N] [INTENT_Y] [CAT_Y] [MIN_Y]   \n",
       "\n",
       "                                                                                                                                                                                                                                         test_text  \n",
       "0   [Worker_-8935932304856669427] is white, liberal and woman. [SEP] RT @_LexC__: I'm convinced that some of y'all bitches get pregnant purposely because \"birth control &amp; plan b pills\" are effective &#128533;&#128056;&#9749;&#65039; [SEP]  \n",
       "1  [Worker_6347880360297734464] is white, mod-liberal and man. [SEP] RT @_LexC__: I'm convinced that some of y'all bitches get pregnant purposely because \"birth control &amp; plan b pills\" are effective &#128533;&#128056;&#9749;&#65039; [SEP]  \n",
       "2     [Worker_-7452610791699819066] is asian, liberal and man. [SEP] RT @_LexC__: I'm convinced that some of y'all bitches get pregnant purposely because \"birth control &amp; plan b pills\" are effective &#128533;&#128056;&#9749;&#65039; [SEP]  \n",
       "3                                                                                     [Worker_-500114755446676507] is white, liberal and man. [SEP] RT @iBeZo: Stupid fucking nigger LeBron. You flopping stupid jungle bunny monkey faggot. [SEP]  \n",
       "4                                                                                     [Worker_-500114755446676507] is white, liberal and man. [SEP] RT @iBeZo: Stupid fucking nigger LeBron. You flopping stupid jungle bunny monkey faggot. [SEP]  "
      ]
     },
     "execution_count": 27,
     "metadata": {},
     "output_type": "execute_result"
    }
   ],
   "source": [
    "train_data.head()"
   ]
  },
  {
   "cell_type": "code",
   "execution_count": 30,
   "id": "088de35c-ffff-443f-ba00-97d2f9f664dc",
   "metadata": {},
   "outputs": [
    {
     "name": "stdout",
     "output_type": "stream",
     "text": [
      "273\n"
     ]
    }
   ],
   "source": [
    "# new tokens\n",
    "offensive_tokens = list(train_data['offensive'].unique())\n",
    "lewd_tokens = list(train_data['lewd'].unique())\n",
    "intent_tokens = list(train_data['intent'].unique())\n",
    "category_tokens = list(train_data['category'].unique())\n",
    "minority_tokens = list(train_data['minority'].unique())\n",
    "worker_tokens = list(train_data['worker'].unique())\n",
    "#group_tokens = list(train_data['group'].unique())\n",
    "#gender_tokens = list(train_data['mapped_gender'].unique())\n",
    "#politics_tokens = list(train_data['mapped_politics'].unique())\n",
    "#race_tokens = list(train_data['mapped_race'].unique())\n",
    "\n",
    "new_tokens = offensive_tokens + lewd_tokens + intent_tokens + category_tokens + minority_tokens + worker_tokens\n",
    "print(len(new_tokens))"
   ]
  },
  {
   "cell_type": "code",
   "execution_count": 31,
   "id": "3d6256c3-28a2-4664-b91a-72695f724a8b",
   "metadata": {},
   "outputs": [
    {
     "data": {
      "text/plain": [
       "(112899, 13)"
      ]
     },
     "execution_count": 31,
     "metadata": {},
     "output_type": "execute_result"
    }
   ],
   "source": [
    "train_data.shape"
   ]
  },
  {
   "cell_type": "code",
   "execution_count": 32,
   "id": "ecc15379-b2fd-46f6-9ba0-ddf751936c0a",
   "metadata": {},
   "outputs": [
    {
     "name": "stdout",
     "output_type": "stream",
     "text": [
      "Final size of tokenizer: 50530\n"
     ]
    }
   ],
   "source": [
    "tokenizer.add_tokens(new_tokens)\n",
    "print(f\"Final size of tokenizer: {len(tokenizer)}\")"
   ]
  },
  {
   "cell_type": "code",
   "execution_count": 33,
   "id": "d02f2888-44c1-4140-ab6b-1a877a1a702d",
   "metadata": {},
   "outputs": [],
   "source": [
    "train_dataset = Dataset.from_pandas(train_data)\n",
    "valid_dataset = Dataset.from_pandas(valid_data)\n",
    "test_dataset = Dataset.from_pandas(test_data)"
   ]
  },
  {
   "cell_type": "code",
   "execution_count": 34,
   "id": "b33ddc44-db52-420f-a143-8e0eca7c27d4",
   "metadata": {},
   "outputs": [],
   "source": [
    "def tokenize_train(example):\n",
    "    return tokenizer(example['train_text'], max_length=128, padding='max_length', truncation=True)\n",
    "\n",
    "def tokenize_test(example):\n",
    "    return tokenizer(example['test_text'], max_length=128, padding='max_length', truncation=True)"
   ]
  },
  {
   "cell_type": "code",
   "execution_count": 35,
   "id": "c2019025-e5d6-44cb-bff1-327732bae1ea",
   "metadata": {},
   "outputs": [
    {
     "data": {
      "application/vnd.jupyter.widget-view+json": {
       "model_id": "",
       "version_major": 2,
       "version_minor": 0
      },
      "text/plain": [
       "Map:   0%|          | 0/112899 [00:00<?, ? examples/s]"
      ]
     },
     "metadata": {},
     "output_type": "display_data"
    },
    {
     "data": {
      "text/plain": [
       "Dataset({\n",
       "    features: ['input_ids', 'attention_mask'],\n",
       "    num_rows: 112899\n",
       "})"
      ]
     },
     "execution_count": 35,
     "metadata": {},
     "output_type": "execute_result"
    }
   ],
   "source": [
    "tokenized_train = train_dataset.map(tokenize_train, batched=True)\n",
    "tokenized_train = tokenized_train.remove_columns(['post', 'worker', 'offensive', 'lewd', 'intent', 'category', 'minority', 'train_text',\n",
    "                                                  'test_text', 'mapped_gender', 'mapped_politics', 'mapped_race', 'text_prefix', '__index_level_0__'])\n",
    "tokenized_train.set_format('torch')\n",
    "tokenized_train"
   ]
  },
  {
   "cell_type": "code",
   "execution_count": 37,
   "id": "7303a496-4c65-47fa-941a-4be78d1edca5",
   "metadata": {},
   "outputs": [
    {
     "data": {
      "application/vnd.jupyter.widget-view+json": {
       "model_id": "",
       "version_major": 2,
       "version_minor": 0
      },
      "text/plain": [
       "Map:   0%|          | 0/16738 [00:00<?, ? examples/s]"
      ]
     },
     "metadata": {},
     "output_type": "display_data"
    },
    {
     "data": {
      "text/plain": [
       "Dataset({\n",
       "    features: ['input_ids', 'attention_mask'],\n",
       "    num_rows: 16738\n",
       "})"
      ]
     },
     "execution_count": 37,
     "metadata": {},
     "output_type": "execute_result"
    }
   ],
   "source": [
    "tokenized_valid = valid_dataset.map(tokenize_train, batched=True)\n",
    "tokenized_valid = tokenized_valid.remove_columns(['post', 'worker', 'offensive', 'lewd', 'intent', 'category', 'minority',\n",
    "                                                  'train_text', 'test_text', 'mapped_gender', 'mapped_politics', 'mapped_race', 'text_prefix'])\n",
    "tokenized_valid.set_format('torch')\n",
    "tokenized_valid"
   ]
  },
  {
   "cell_type": "code",
   "execution_count": 38,
   "id": "100d8b1c-116f-4373-bc04-6a042dff51b7",
   "metadata": {},
   "outputs": [
    {
     "data": {
      "application/vnd.jupyter.widget-view+json": {
       "model_id": "",
       "version_major": 2,
       "version_minor": 0
      },
      "text/plain": [
       "Map:   0%|          | 0/17501 [00:00<?, ? examples/s]"
      ]
     },
     "metadata": {},
     "output_type": "display_data"
    },
    {
     "data": {
      "text/plain": [
       "Dataset({\n",
       "    features: ['input_ids', 'attention_mask'],\n",
       "    num_rows: 17501\n",
       "})"
      ]
     },
     "execution_count": 38,
     "metadata": {},
     "output_type": "execute_result"
    }
   ],
   "source": [
    "tokenized_test = test_dataset.map(tokenize_test, batched=True)\n",
    "tokenized_test = tokenized_test.remove_columns(['post', 'worker', 'offensive', 'lewd', 'intent', 'category', 'minority', 'train_text',\n",
    "                                                'test_text', 'mapped_gender', 'mapped_politics', 'mapped_race', 'text_prefix'])\n",
    "tokenized_test.set_format('torch')\n",
    "tokenized_test"
   ]
  },
  {
   "cell_type": "code",
   "execution_count": 39,
   "id": "2067f359-1a95-45cb-8665-9abbc626f5fc",
   "metadata": {},
   "outputs": [],
   "source": [
    "batch_size = 16\n",
    "\n",
    "data_collator = DataCollatorForLanguageModeling(tokenizer=tokenizer, mlm=False)\n",
    "\n",
    "train_dataloader = DataLoader(tokenized_train, batch_size=batch_size, shuffle=True, collate_fn=data_collator)\n",
    "valid_dataloader = DataLoader(tokenized_valid, batch_size=batch_size, collate_fn=data_collator)\n",
    "test_dataloader = DataLoader(tokenized_test, batch_size=batch_size, collate_fn=data_collator)"
   ]
  },
  {
   "cell_type": "code",
   "execution_count": 40,
   "id": "8db27ec6-b490-4aeb-9ed0-845f7ecae0af",
   "metadata": {},
   "outputs": [
    {
     "name": "stdout",
     "output_type": "stream",
     "text": [
      "GPT-2 size: 124.6M parameters\n"
     ]
    }
   ],
   "source": [
    "model = GPT2LMHeadModel.from_pretrained(model_checkpoint)\n",
    "model.resize_token_embeddings(len(tokenizer))\n",
    "model_size = sum(t.numel() for t in model.parameters())\n",
    "print(f\"GPT-2 size: {model_size/1000**2:.1f}M parameters\")"
   ]
  },
  {
   "cell_type": "code",
   "execution_count": 41,
   "id": "139b7af4-5a03-432f-bf34-fe2c35bfc45d",
   "metadata": {},
   "outputs": [],
   "source": [
    "num_epochs = 5\n",
    "learning_rate = 5e-5\n",
    "epsilon = 1e-8\n",
    "optimizer = optim.AdamW(model.parameters(), lr=learning_rate, eps=epsilon)\n",
    "total_steps = len(train_dataloader) * num_epochs\n",
    "scheduler = get_linear_schedule_with_warmup(optimizer, num_warmup_steps=0, num_training_steps=total_steps)"
   ]
  },
  {
   "cell_type": "code",
   "execution_count": 42,
   "id": "05388012-738e-42c6-b0ab-ee799731c3db",
   "metadata": {},
   "outputs": [
    {
     "data": {
      "text/plain": [
       "GPT2LMHeadModel(\n",
       "  (transformer): GPT2Model(\n",
       "    (wte): Embedding(50530, 768)\n",
       "    (wpe): Embedding(1024, 768)\n",
       "    (drop): Dropout(p=0.1, inplace=False)\n",
       "    (h): ModuleList(\n",
       "      (0): GPT2Block(\n",
       "        (ln_1): LayerNorm((768,), eps=1e-05, elementwise_affine=True)\n",
       "        (attn): GPT2Attention(\n",
       "          (c_attn): Conv1D()\n",
       "          (c_proj): Conv1D()\n",
       "          (attn_dropout): Dropout(p=0.1, inplace=False)\n",
       "          (resid_dropout): Dropout(p=0.1, inplace=False)\n",
       "        )\n",
       "        (ln_2): LayerNorm((768,), eps=1e-05, elementwise_affine=True)\n",
       "        (mlp): GPT2MLP(\n",
       "          (c_fc): Conv1D()\n",
       "          (c_proj): Conv1D()\n",
       "          (act): NewGELUActivation()\n",
       "          (dropout): Dropout(p=0.1, inplace=False)\n",
       "        )\n",
       "      )\n",
       "      (1): GPT2Block(\n",
       "        (ln_1): LayerNorm((768,), eps=1e-05, elementwise_affine=True)\n",
       "        (attn): GPT2Attention(\n",
       "          (c_attn): Conv1D()\n",
       "          (c_proj): Conv1D()\n",
       "          (attn_dropout): Dropout(p=0.1, inplace=False)\n",
       "          (resid_dropout): Dropout(p=0.1, inplace=False)\n",
       "        )\n",
       "        (ln_2): LayerNorm((768,), eps=1e-05, elementwise_affine=True)\n",
       "        (mlp): GPT2MLP(\n",
       "          (c_fc): Conv1D()\n",
       "          (c_proj): Conv1D()\n",
       "          (act): NewGELUActivation()\n",
       "          (dropout): Dropout(p=0.1, inplace=False)\n",
       "        )\n",
       "      )\n",
       "      (2): GPT2Block(\n",
       "        (ln_1): LayerNorm((768,), eps=1e-05, elementwise_affine=True)\n",
       "        (attn): GPT2Attention(\n",
       "          (c_attn): Conv1D()\n",
       "          (c_proj): Conv1D()\n",
       "          (attn_dropout): Dropout(p=0.1, inplace=False)\n",
       "          (resid_dropout): Dropout(p=0.1, inplace=False)\n",
       "        )\n",
       "        (ln_2): LayerNorm((768,), eps=1e-05, elementwise_affine=True)\n",
       "        (mlp): GPT2MLP(\n",
       "          (c_fc): Conv1D()\n",
       "          (c_proj): Conv1D()\n",
       "          (act): NewGELUActivation()\n",
       "          (dropout): Dropout(p=0.1, inplace=False)\n",
       "        )\n",
       "      )\n",
       "      (3): GPT2Block(\n",
       "        (ln_1): LayerNorm((768,), eps=1e-05, elementwise_affine=True)\n",
       "        (attn): GPT2Attention(\n",
       "          (c_attn): Conv1D()\n",
       "          (c_proj): Conv1D()\n",
       "          (attn_dropout): Dropout(p=0.1, inplace=False)\n",
       "          (resid_dropout): Dropout(p=0.1, inplace=False)\n",
       "        )\n",
       "        (ln_2): LayerNorm((768,), eps=1e-05, elementwise_affine=True)\n",
       "        (mlp): GPT2MLP(\n",
       "          (c_fc): Conv1D()\n",
       "          (c_proj): Conv1D()\n",
       "          (act): NewGELUActivation()\n",
       "          (dropout): Dropout(p=0.1, inplace=False)\n",
       "        )\n",
       "      )\n",
       "      (4): GPT2Block(\n",
       "        (ln_1): LayerNorm((768,), eps=1e-05, elementwise_affine=True)\n",
       "        (attn): GPT2Attention(\n",
       "          (c_attn): Conv1D()\n",
       "          (c_proj): Conv1D()\n",
       "          (attn_dropout): Dropout(p=0.1, inplace=False)\n",
       "          (resid_dropout): Dropout(p=0.1, inplace=False)\n",
       "        )\n",
       "        (ln_2): LayerNorm((768,), eps=1e-05, elementwise_affine=True)\n",
       "        (mlp): GPT2MLP(\n",
       "          (c_fc): Conv1D()\n",
       "          (c_proj): Conv1D()\n",
       "          (act): NewGELUActivation()\n",
       "          (dropout): Dropout(p=0.1, inplace=False)\n",
       "        )\n",
       "      )\n",
       "      (5): GPT2Block(\n",
       "        (ln_1): LayerNorm((768,), eps=1e-05, elementwise_affine=True)\n",
       "        (attn): GPT2Attention(\n",
       "          (c_attn): Conv1D()\n",
       "          (c_proj): Conv1D()\n",
       "          (attn_dropout): Dropout(p=0.1, inplace=False)\n",
       "          (resid_dropout): Dropout(p=0.1, inplace=False)\n",
       "        )\n",
       "        (ln_2): LayerNorm((768,), eps=1e-05, elementwise_affine=True)\n",
       "        (mlp): GPT2MLP(\n",
       "          (c_fc): Conv1D()\n",
       "          (c_proj): Conv1D()\n",
       "          (act): NewGELUActivation()\n",
       "          (dropout): Dropout(p=0.1, inplace=False)\n",
       "        )\n",
       "      )\n",
       "      (6): GPT2Block(\n",
       "        (ln_1): LayerNorm((768,), eps=1e-05, elementwise_affine=True)\n",
       "        (attn): GPT2Attention(\n",
       "          (c_attn): Conv1D()\n",
       "          (c_proj): Conv1D()\n",
       "          (attn_dropout): Dropout(p=0.1, inplace=False)\n",
       "          (resid_dropout): Dropout(p=0.1, inplace=False)\n",
       "        )\n",
       "        (ln_2): LayerNorm((768,), eps=1e-05, elementwise_affine=True)\n",
       "        (mlp): GPT2MLP(\n",
       "          (c_fc): Conv1D()\n",
       "          (c_proj): Conv1D()\n",
       "          (act): NewGELUActivation()\n",
       "          (dropout): Dropout(p=0.1, inplace=False)\n",
       "        )\n",
       "      )\n",
       "      (7): GPT2Block(\n",
       "        (ln_1): LayerNorm((768,), eps=1e-05, elementwise_affine=True)\n",
       "        (attn): GPT2Attention(\n",
       "          (c_attn): Conv1D()\n",
       "          (c_proj): Conv1D()\n",
       "          (attn_dropout): Dropout(p=0.1, inplace=False)\n",
       "          (resid_dropout): Dropout(p=0.1, inplace=False)\n",
       "        )\n",
       "        (ln_2): LayerNorm((768,), eps=1e-05, elementwise_affine=True)\n",
       "        (mlp): GPT2MLP(\n",
       "          (c_fc): Conv1D()\n",
       "          (c_proj): Conv1D()\n",
       "          (act): NewGELUActivation()\n",
       "          (dropout): Dropout(p=0.1, inplace=False)\n",
       "        )\n",
       "      )\n",
       "      (8): GPT2Block(\n",
       "        (ln_1): LayerNorm((768,), eps=1e-05, elementwise_affine=True)\n",
       "        (attn): GPT2Attention(\n",
       "          (c_attn): Conv1D()\n",
       "          (c_proj): Conv1D()\n",
       "          (attn_dropout): Dropout(p=0.1, inplace=False)\n",
       "          (resid_dropout): Dropout(p=0.1, inplace=False)\n",
       "        )\n",
       "        (ln_2): LayerNorm((768,), eps=1e-05, elementwise_affine=True)\n",
       "        (mlp): GPT2MLP(\n",
       "          (c_fc): Conv1D()\n",
       "          (c_proj): Conv1D()\n",
       "          (act): NewGELUActivation()\n",
       "          (dropout): Dropout(p=0.1, inplace=False)\n",
       "        )\n",
       "      )\n",
       "      (9): GPT2Block(\n",
       "        (ln_1): LayerNorm((768,), eps=1e-05, elementwise_affine=True)\n",
       "        (attn): GPT2Attention(\n",
       "          (c_attn): Conv1D()\n",
       "          (c_proj): Conv1D()\n",
       "          (attn_dropout): Dropout(p=0.1, inplace=False)\n",
       "          (resid_dropout): Dropout(p=0.1, inplace=False)\n",
       "        )\n",
       "        (ln_2): LayerNorm((768,), eps=1e-05, elementwise_affine=True)\n",
       "        (mlp): GPT2MLP(\n",
       "          (c_fc): Conv1D()\n",
       "          (c_proj): Conv1D()\n",
       "          (act): NewGELUActivation()\n",
       "          (dropout): Dropout(p=0.1, inplace=False)\n",
       "        )\n",
       "      )\n",
       "      (10): GPT2Block(\n",
       "        (ln_1): LayerNorm((768,), eps=1e-05, elementwise_affine=True)\n",
       "        (attn): GPT2Attention(\n",
       "          (c_attn): Conv1D()\n",
       "          (c_proj): Conv1D()\n",
       "          (attn_dropout): Dropout(p=0.1, inplace=False)\n",
       "          (resid_dropout): Dropout(p=0.1, inplace=False)\n",
       "        )\n",
       "        (ln_2): LayerNorm((768,), eps=1e-05, elementwise_affine=True)\n",
       "        (mlp): GPT2MLP(\n",
       "          (c_fc): Conv1D()\n",
       "          (c_proj): Conv1D()\n",
       "          (act): NewGELUActivation()\n",
       "          (dropout): Dropout(p=0.1, inplace=False)\n",
       "        )\n",
       "      )\n",
       "      (11): GPT2Block(\n",
       "        (ln_1): LayerNorm((768,), eps=1e-05, elementwise_affine=True)\n",
       "        (attn): GPT2Attention(\n",
       "          (c_attn): Conv1D()\n",
       "          (c_proj): Conv1D()\n",
       "          (attn_dropout): Dropout(p=0.1, inplace=False)\n",
       "          (resid_dropout): Dropout(p=0.1, inplace=False)\n",
       "        )\n",
       "        (ln_2): LayerNorm((768,), eps=1e-05, elementwise_affine=True)\n",
       "        (mlp): GPT2MLP(\n",
       "          (c_fc): Conv1D()\n",
       "          (c_proj): Conv1D()\n",
       "          (act): NewGELUActivation()\n",
       "          (dropout): Dropout(p=0.1, inplace=False)\n",
       "        )\n",
       "      )\n",
       "    )\n",
       "    (ln_f): LayerNorm((768,), eps=1e-05, elementwise_affine=True)\n",
       "  )\n",
       "  (lm_head): Linear(in_features=768, out_features=50530, bias=False)\n",
       ")"
      ]
     },
     "execution_count": 42,
     "metadata": {},
     "output_type": "execute_result"
    }
   ],
   "source": [
    "device = torch.device(\"cuda\") if torch.cuda.is_available() else torch.device(\"cpu\")\n",
    "model.to(device)"
   ]
  },
  {
   "cell_type": "code",
   "execution_count": 43,
   "id": "43f81952-37ce-4ba2-90ec-d297b2e9ed1b",
   "metadata": {},
   "outputs": [],
   "source": [
    "def validate_model(dataloader, model, device):\n",
    "    model.eval()\n",
    "    valid_loss = 0\n",
    "\n",
    "    for batch in dataloader:\n",
    "        batch = {k:v.type(torch.long).to(device) for k,v in batch.items()}\n",
    "        input_ids, attention_mask, labels = batch['input_ids'], batch['attention_mask'], batch['input_ids']\n",
    "\n",
    "        with torch.no_grad():\n",
    "            outputs = model(input_ids, attention_mask=attention_mask, labels=labels)\n",
    "            #predictions = outputs.logits.view(-1, outputs.logits.size(-1))\n",
    "            #labels = labels.view(-1)\n",
    "            #loss = criterion(predictions, labels)\n",
    "            loss = outputs.loss\n",
    "            valid_loss += loss.item()\n",
    "\n",
    "    valid_loss /= len(dataloader)\n",
    "\n",
    "    return valid_loss"
   ]
  },
  {
   "cell_type": "code",
   "execution_count": 44,
   "id": "a1c9daeb-1240-46f5-9850-11681870a8c9",
   "metadata": {},
   "outputs": [],
   "source": [
    "def train_model(train_dataloader, valid_dataloader, model, optimizer, scheduler, num_epochs, device):\n",
    "    progress_bar = tqdm(range(len(train_dataloader) * num_epochs))\n",
    "    train_losses = []\n",
    "    valid_losses = []\n",
    "    best_epoch = -1\n",
    "    best_loss = float('inf')\n",
    "\n",
    "    for epoch in range(num_epochs):\n",
    "        model.train()\n",
    "        train_loss = 0.0\n",
    "\n",
    "        for batch in train_dataloader:\n",
    "            batch = {k:v.type(torch.long).to(device) for k,v in batch.items()}\n",
    "            input_ids, attention_mask, labels = batch['input_ids'], batch['attention_mask'], batch['input_ids']\n",
    "\n",
    "            outputs = model(input_ids, attention_mask=attention_mask, labels=labels)\n",
    "            loss = outputs[0]\n",
    "            train_loss += loss.item()\n",
    "\n",
    "            loss.backward()\n",
    "            optimizer.step()\n",
    "            scheduler.step()\n",
    "            optimizer.zero_grad()\n",
    "            progress_bar.update(1)\n",
    "\n",
    "        train_loss /= len(train_dataloader)\n",
    "        train_losses.append(train_loss)\n",
    "\n",
    "        valid_loss = validate_model(valid_dataloader, model, device)\n",
    "        valid_losses.append(valid_loss)\n",
    "\n",
    "        if valid_loss < best_loss:\n",
    "            best_loss = valid_loss\n",
    "            best_epoch = epoch\n",
    "            torch.save(model.state_dict(), 'annotated_best_model.pth')\n",
    "\n",
    "        print(f\"Epoch {epoch + 1}/{num_epochs} | Train loss {train_loss:.5f} | Validation loss {valid_loss:.5f}\")\n",
    "\n",
    "    print(f\"Best performing epoch: {best_epoch + 1} with lowest validation loss: {best_loss:.5f}\")\n",
    "\n",
    "    plt.figure(figsize=(10,5))\n",
    "    plt.plot(range(1, num_epochs+1), train_losses, label=\"Training Loss\")\n",
    "    plt.plot(range(1, num_epochs+1), valid_losses, label=\"Validation Loss\")\n",
    "    plt.xlabel('Epoch')\n",
    "    plt.ylabel('Loss')\n",
    "    plt.legend()\n",
    "    plt.show()"
   ]
  },
  {
   "cell_type": "code",
   "execution_count": 45,
   "id": "92ba71b4-d3ac-4042-afdb-fbecdd498890",
   "metadata": {},
   "outputs": [
    {
     "name": "stderr",
     "output_type": "stream",
     "text": [
      "  0%|          | 0/35285 [00:00<?, ?it/s]You're using a GPT2TokenizerFast tokenizer. Please note that with a fast tokenizer, using the `__call__` method is faster than using a method to encode the text followed by a call to the `pad` method to get a padded encoding.\n",
      " 20%|██        | 7058/35285 [21:31<114:40:20, 14.63s/it]"
     ]
    },
    {
     "name": "stdout",
     "output_type": "stream",
     "text": [
      "Epoch 1/5 | Train loss 2.15695 | Validation loss 2.41281\n"
     ]
    },
    {
     "name": "stderr",
     "output_type": "stream",
     "text": [
      " 40%|████      | 14115/35285 [43:00<86:16:26, 14.67s/it]"
     ]
    },
    {
     "name": "stdout",
     "output_type": "stream",
     "text": [
      "Epoch 2/5 | Train loss 2.61246 | Validation loss 2.38596\n"
     ]
    },
    {
     "name": "stderr",
     "output_type": "stream",
     "text": [
      " 60%|██████    | 21172/35285 [1:04:25<52:36:28, 13.42s/it]"
     ]
    },
    {
     "name": "stdout",
     "output_type": "stream",
     "text": [
      "Epoch 3/5 | Train loss 2.64114 | Validation loss 2.47301\n"
     ]
    },
    {
     "name": "stderr",
     "output_type": "stream",
     "text": [
      " 80%|████████  | 28229/35285 [1:25:48<26:25:54, 13.49s/it]"
     ]
    },
    {
     "name": "stdout",
     "output_type": "stream",
     "text": [
      "Epoch 4/5 | Train loss 2.54347 | Validation loss 2.40478\n"
     ]
    },
    {
     "name": "stderr",
     "output_type": "stream",
     "text": [
      "100%|█████████▉| 35284/35285 [1:46:15<00:00,  5.74it/s]   "
     ]
    },
    {
     "name": "stdout",
     "output_type": "stream",
     "text": [
      "Epoch 5/5 | Train loss 2.97773 | Validation loss 2.21697\n",
      "Best performing epoch: 5 with lowest validation loss: 2.21697\n"
     ]
    },
    {
     "data": {
      "image/png": "[encoded data removed]",
      "text/plain": [
       "<Figure size 1000x500 with 1 Axes>"
      ]
     },
     "metadata": {},
     "output_type": "display_data"
    }
   ],
   "source": [
    "train_model(train_dataloader, valid_dataloader, model, optimizer, scheduler, num_epochs, device)"
   ]
  },
  {
   "cell_type": "code",
   "execution_count": 46,
   "id": "682cf805-1105-4bd8-a3df-5624c13e2206",
   "metadata": {},
   "outputs": [
    {
     "name": "stderr",
     "output_type": "stream",
     "text": [
      "100%|██████████| 35285/35285 [1:51:19<00:00,  5.28it/s]\n"
     ]
    },
    {
     "data": {
      "text/plain": [
       "<All keys matched successfully>"
      ]
     },
     "execution_count": 46,
     "metadata": {},
     "output_type": "execute_result"
    }
   ],
   "source": [
    "model.load_state_dict(torch.load(\"annotated_best_model.pth\"))"
   ]
  },
  {
   "cell_type": "code",
   "execution_count": 49,
   "id": "40e87dfe-70c0-437d-975d-bad6411a8842",
   "metadata": {},
   "outputs": [],
   "source": [
    "def generate_text(dataloader, model):\n",
    "    data = []\n",
    "    model.eval()\n",
    "\n",
    "    for batch in dataloader:\n",
    "        batch = {k:v.type(torch.long).to(device) for k,v in batch.items()}\n",
    "        input_ids, attention_mask = batch['input_ids'], batch['attention_mask']\n",
    "\n",
    "        with torch.no_grad():\n",
    "            generated_texts = model.generate(input_ids, attention_mask=attention_mask,\n",
    "                                             do_sample=False, max_new_tokens=50, num_return_sequences=1,\n",
    "                                             eos_token_id=tokenizer.eos_token_id, pad_token_id=tokenizer.pad_token_id\n",
    "                                             )\n",
    "\n",
    "            for i, text in enumerate(generated_texts):\n",
    "                original_text = tokenizer.decode(input_ids[i], skip_special_tokens=True)\n",
    "                generated_sample = tokenizer.decode(text, skip_special_tokens=True)\n",
    "                data.append([original_text, generated_sample])\n",
    "\n",
    "    output_df = pd.DataFrame(data, columns=['original_text', 'generated_sample'])\n",
    "\n",
    "    return output_df"
   ]
  },
  {
   "cell_type": "code",
   "execution_count": 50,
   "id": "0776c4a0-21a0-4157-b88a-34def2e77c74",
   "metadata": {},
   "outputs": [],
   "source": [
    "test_output = generate_text(test_dataloader, model)"
   ]
  },
  {
   "cell_type": "code",
   "execution_count": 45,
   "id": "5fdd1df0-cd07-4d03-ad88-52a52235e091",
   "metadata": {},
   "outputs": [
    {
     "data": {
      "text/html": [
       "<div>\n",
       "<style scoped>\n",
       "    .dataframe tbody tr th:only-of-type {\n",
       "        vertical-align: middle;\n",
       "    }\n",
       "\n",
       "    .dataframe tbody tr th {\n",
       "        vertical-align: top;\n",
       "    }\n",
       "\n",
       "    .dataframe thead th {\n",
       "        text-align: right;\n",
       "    }\n",
       "</style>\n",
       "<table border=\"1\" class=\"dataframe\">\n",
       "  <thead>\n",
       "    <tr style=\"text-align: right;\">\n",
       "      <th></th>\n",
       "      <th>post</th>\n",
       "      <th>gold</th>\n",
       "      <th>predicted</th>\n",
       "    </tr>\n",
       "  </thead>\n",
       "  <tbody>\n",
       "    <tr>\n",
       "      <th>0</th>\n",
       "      <td>Fuc u say ? &amp;#8220;@AyyyeThatsChubb: All these hoes look good on IG&amp;#8221; http://t.co/PlsFL84cDp</td>\n",
       "      <td>[Worker_-7090297418013232722] [SEP] Fuc u say ? &amp;#8220;@AyyyeThatsChubb: All these hoes look good on IG&amp;#8221; http://t.co/PlsFL84cDp [SEP] [OFF_Y] [SEX_N] [INTENT_Y] [CAT_N] [MIN_N]</td>\n",
       "      <td>[Worker_-7090297418013232722] [SEP] Fuc u say? &amp;#8220;@AyyyeThatsChubb: All these hoes look good on IG&amp;#8221; http://t.co/PlsFL84cDp [SEP] [OFF_Y] [SEX_N] [INTENT_Y] [CAT_N] [MIN_N]</td>\n",
       "    </tr>\n",
       "    <tr>\n",
       "      <th>1</th>\n",
       "      <td>Fuc u say ? &amp;#8220;@AyyyeThatsChubb: All these hoes look good on IG&amp;#8221; http://t.co/PlsFL84cDp</td>\n",
       "      <td>[Worker_3541686222721437796] [SEP] Fuc u say ? &amp;#8220;@AyyyeThatsChubb: All these hoes look good on IG&amp;#8221; http://t.co/PlsFL84cDp [SEP] [OFF_N] [SEX_N] [INTENT_N] [CAT_N] [MIN_N]</td>\n",
       "      <td>[Worker_3541686222721437796] [SEP] Fuc u say? &amp;#8220;@AyyyeThatsChubb: All these hoes look good on IG&amp;#8221; http://t.co/PlsFL84cDp [SEP] [OFF_Y] [SEX_N] [INTENT_Y] [CAT_N] [MIN_N]</td>\n",
       "    </tr>\n",
       "    <tr>\n",
       "      <th>2</th>\n",
       "      <td>Fuc u say ? &amp;#8220;@AyyyeThatsChubb: All these hoes look good on IG&amp;#8221; http://t.co/PlsFL84cDp</td>\n",
       "      <td>[Worker_-7353159578349448466] [SEP] Fuc u say ? &amp;#8220;@AyyyeThatsChubb: All these hoes look good on IG&amp;#8221; http://t.co/PlsFL84cDp [SEP] [OFF_Y] [SEX_N] [INTENT_Y] [CAT_N] [MIN_N]</td>\n",
       "      <td>[Worker_-7353159578349448466] [SEP] Fuc u say? &amp;#8220;@AyyyeThatsChubb: All these hoes look good on IG&amp;#8221; http://t.co/PlsFL84cDp [SEP] [OFF_Y] [SEX_N] [INTENT_Y] [CAT_N] [MIN_N]</td>\n",
       "    </tr>\n",
       "    <tr>\n",
       "      <th>3</th>\n",
       "      <td>Yo hoe is like a tick so she hunting for a blood</td>\n",
       "      <td>[Worker_2430897476320006833] [SEP] Yo hoe is like a tick so she hunting for a blood [SEP] [OFF_Y] [SEX_Y] [INTENT_Y] [CAT_N] [MIN_N]</td>\n",
       "      <td>[Worker_2430897476320006833] [SEP] Yo hoe is like a tick so she hunting for a blood [SEP] [OFF_Y] [SEX_N] [INTENT_Y] [CAT_N] [MIN_N]</td>\n",
       "    </tr>\n",
       "    <tr>\n",
       "      <th>4</th>\n",
       "      <td>Yo hoe is like a tick so she hunting for a blood</td>\n",
       "      <td>[Worker_-6352039173957003457] [SEP] Yo hoe is like a tick so she hunting for a blood [SEP] [OFF_Y] [SEX_N] [INTENT_Y] [CAT_N] [MIN_N]</td>\n",
       "      <td>[Worker_-6352039173957003457] [SEP] Yo hoe is like a tick so she hunting for a blood [SEP] [OFF_Y] [SEX_N] [INTENT_Y] [CAT_N] [MIN_N]</td>\n",
       "    </tr>\n",
       "  </tbody>\n",
       "</table>\n",
       "</div>"
      ],
      "text/plain": [
       "                                                                                                post  \\\n",
       "0  Fuc u say ? &#8220;@AyyyeThatsChubb: All these hoes look good on IG&#8221; http://t.co/PlsFL84cDp   \n",
       "1  Fuc u say ? &#8220;@AyyyeThatsChubb: All these hoes look good on IG&#8221; http://t.co/PlsFL84cDp   \n",
       "2  Fuc u say ? &#8220;@AyyyeThatsChubb: All these hoes look good on IG&#8221; http://t.co/PlsFL84cDp   \n",
       "3                                                   Yo hoe is like a tick so she hunting for a blood   \n",
       "4                                                   Yo hoe is like a tick so she hunting for a blood   \n",
       "\n",
       "                                                                                                                                                                                     gold  \\\n",
       "0  [Worker_-7090297418013232722] [SEP] Fuc u say ? &#8220;@AyyyeThatsChubb: All these hoes look good on IG&#8221; http://t.co/PlsFL84cDp [SEP] [OFF_Y] [SEX_N] [INTENT_Y] [CAT_N] [MIN_N]   \n",
       "1   [Worker_3541686222721437796] [SEP] Fuc u say ? &#8220;@AyyyeThatsChubb: All these hoes look good on IG&#8221; http://t.co/PlsFL84cDp [SEP] [OFF_N] [SEX_N] [INTENT_N] [CAT_N] [MIN_N]   \n",
       "2  [Worker_-7353159578349448466] [SEP] Fuc u say ? &#8220;@AyyyeThatsChubb: All these hoes look good on IG&#8221; http://t.co/PlsFL84cDp [SEP] [OFF_Y] [SEX_N] [INTENT_Y] [CAT_N] [MIN_N]   \n",
       "3                                                    [Worker_2430897476320006833] [SEP] Yo hoe is like a tick so she hunting for a blood [SEP] [OFF_Y] [SEX_Y] [INTENT_Y] [CAT_N] [MIN_N]   \n",
       "4                                                   [Worker_-6352039173957003457] [SEP] Yo hoe is like a tick so she hunting for a blood [SEP] [OFF_Y] [SEX_N] [INTENT_Y] [CAT_N] [MIN_N]   \n",
       "\n",
       "                                                                                                                                                                               predicted  \n",
       "0  [Worker_-7090297418013232722] [SEP] Fuc u say? &#8220;@AyyyeThatsChubb: All these hoes look good on IG&#8221; http://t.co/PlsFL84cDp [SEP] [OFF_Y] [SEX_N] [INTENT_Y] [CAT_N] [MIN_N]  \n",
       "1   [Worker_3541686222721437796] [SEP] Fuc u say? &#8220;@AyyyeThatsChubb: All these hoes look good on IG&#8221; http://t.co/PlsFL84cDp [SEP] [OFF_Y] [SEX_N] [INTENT_Y] [CAT_N] [MIN_N]  \n",
       "2  [Worker_-7353159578349448466] [SEP] Fuc u say? &#8220;@AyyyeThatsChubb: All these hoes look good on IG&#8221; http://t.co/PlsFL84cDp [SEP] [OFF_Y] [SEX_N] [INTENT_Y] [CAT_N] [MIN_N]  \n",
       "3                                                   [Worker_2430897476320006833] [SEP] Yo hoe is like a tick so she hunting for a blood [SEP] [OFF_Y] [SEX_N] [INTENT_Y] [CAT_N] [MIN_N]  \n",
       "4                                                  [Worker_-6352039173957003457] [SEP] Yo hoe is like a tick so she hunting for a blood [SEP] [OFF_Y] [SEX_N] [INTENT_Y] [CAT_N] [MIN_N]  "
      ]
     },
     "execution_count": 45,
     "metadata": {},
     "output_type": "execute_result"
    }
   ],
   "source": [
    "ann_output = pd.merge(test_data[['post', 'train_text']], test_output[['generated_sample']], left_index=True, right_index=True)\n",
    "ann_output.columns = ['post', 'gold', 'predicted']\n",
    "ann_output.head()"
   ]
  },
  {
   "cell_type": "code",
   "execution_count": 46,
   "id": "5c5be61e-f282-4e25-9af8-7ed317ecd968",
   "metadata": {},
   "outputs": [],
   "source": [
    "ann_output.to_csv('final_gpt2_sbic_ann_output.csv', index=False)"
   ]
  }
 ],
 "metadata": {
  "kernelspec": {
   "display_name": "Python 3 (ipykernel)",
   "language": "python",
   "name": "python3"
  },
  "language_info": {
   "codemirror_mode": {
    "name": "ipython",
    "version": 3
   },
   "file_extension": ".py",
   "mimetype": "text/x-python",
   "name": "python",
   "nbconvert_exporter": "python",
   "pygments_lexer": "ipython3",
   "version": "3.11.4"
  }
 },
 "nbformat": 4,
 "nbformat_minor": 5
}
